{
  "cells": [
    {
      "cell_type": "markdown",
      "metadata": {
        "id": "U23vlHBVPMGC"
      },
      "source": [
        "___\n",
        "\n",
        "<a href='https://viqasys.com/wp-content/uploads/2021/07/ns1.png'><img src='https://viqasys.com/wp-content/uploads/2021/07/ns1.png'/></a>\n",
        "___\n",
        "<center><em>Content Copyright VIQASYS INNOVATIONS PVT LTD.</em></center>\n",
        "\n",
        "# Assignment 1"
      ]
    },
    {
      "cell_type": "markdown",
      "metadata": {
        "id": "NvjlbNWRPMGD"
      },
      "source": [
        "# Question 1\n",
        "\n",
        "Write a program to calculate the area of a circle when the radius is given."
      ]
    },
    {
      "cell_type": "code",
      "execution_count": 17,
      "metadata": {
        "colab": {
          "base_uri": "https://localhost:8080/"
        },
        "id": "vHGWI-8rPMGE",
        "outputId": "f350b5aa-c608-47a1-b3ff-fc18417823b9"
      },
      "outputs": [
        {
          "output_type": "stream",
          "name": "stdout",
          "text": [
            "Enter the radius of circle: 12\n",
            "Area of circle with radius 12.0 = 452.39\n"
          ]
        }
      ],
      "source": [
        "import math\n",
        "\n",
        "radius = float(input(\"Enter the radius of circle: \"))\n",
        "\n",
        "area = math.pi * (radius ** 2)\n",
        "print(f\"Area of circle with radius {radius} =\", round(area, 2))"
      ]
    },
    {
      "cell_type": "markdown",
      "metadata": {
        "id": "0t010pUfPMGE"
      },
      "source": [
        "## Question 2\n",
        "\n",
        "Write a program to determine whether a number is positive, negative, or zero."
      ]
    },
    {
      "cell_type": "code",
      "execution_count": 4,
      "metadata": {
        "colab": {
          "base_uri": "https://localhost:8080/"
        },
        "id": "RuNOYDkRPMGE",
        "outputId": "cde3e943-0a2e-46eb-9c04-3b3c788da244"
      },
      "outputs": [
        {
          "output_type": "stream",
          "name": "stdout",
          "text": [
            "Enter the number: 0\n",
            "Entered number is 0\n"
          ]
        }
      ],
      "source": [
        "num = int(input(\"Enter the number: \"))\n",
        "\n",
        "if num > 0:\n",
        "  print(f\"{num} is a positive number\")\n",
        "elif num < 0:\n",
        "  print(f\"{num} is a negative number\")\n",
        "else:\n",
        "  print(f\"Entered number is 0\")"
      ]
    },
    {
      "cell_type": "markdown",
      "metadata": {
        "id": "gSNXmUxZPMGF"
      },
      "source": [
        "## Question 3\n",
        "Describe three different data types commonly used in programming"
      ]
    },
    {
      "cell_type": "code",
      "execution_count": 5,
      "metadata": {
        "colab": {
          "base_uri": "https://localhost:8080/"
        },
        "id": "ffwG2E_NPMGF",
        "outputId": "3302bd96-0c8c-4420-85da-1639ce672086"
      },
      "outputs": [
        {
          "output_type": "stream",
          "name": "stdout",
          "text": [
            "Type of name variable: <class 'str'>\n",
            "Type of age variable: <class 'int'>\n",
            "Type of isMinor variable: <class 'bool'>\n"
          ]
        }
      ],
      "source": [
        "## The three most common data type include following\n",
        "\n",
        "# String data type\n",
        "name: str = \"Ankit Yadav\"\n",
        "print(\"Type of name variable:\", type(name))\n",
        "\n",
        "# int data type for numerical value\n",
        "age: int = 22\n",
        "print(\"Type of age variable:\", type(age))\n",
        "\n",
        "# bool data type for Boolean value (True or False)\n",
        "isMinor: int = False\n",
        "print(\"Type of isMinor variable:\", type(isMinor))"
      ]
    },
    {
      "cell_type": "markdown",
      "metadata": {
        "id": "LPOlWRIXPMGF"
      },
      "source": [
        "## Question 4\n",
        "Write a program to print a pattern where 'n' repeats 1, 2, and 3 times respectively.\n"
      ]
    },
    {
      "cell_type": "code",
      "execution_count": 8,
      "metadata": {
        "colab": {
          "base_uri": "https://localhost:8080/"
        },
        "id": "fdI7Z14gPMGF",
        "outputId": "684638d1-dad0-4f5a-e516-e82643fc22ae"
      },
      "outputs": [
        {
          "output_type": "stream",
          "name": "stdout",
          "text": [
            "n\n",
            "nn\n",
            "nnn\n"
          ]
        }
      ],
      "source": [
        "for i in range(1, 4):\n",
        "  print('n' * i)"
      ]
    },
    {
      "cell_type": "markdown",
      "metadata": {
        "id": "or0vFj2XPMGF"
      },
      "source": [
        "## Question 5\n",
        "\n",
        "Write a program to calculate the number of days between two given dates."
      ]
    },
    {
      "cell_type": "code",
      "execution_count": 11,
      "metadata": {
        "colab": {
          "base_uri": "https://localhost:8080/"
        },
        "id": "Krr7SFrIPMGF",
        "outputId": "04406635-8567-470c-d99f-be35f8d6fa58"
      },
      "outputs": [
        {
          "output_type": "stream",
          "name": "stdout",
          "text": [
            "Days between:  33\n"
          ]
        }
      ],
      "source": [
        "from datetime import datetime\n",
        "\n",
        "startDate = datetime(2024, 6, 1)\n",
        "endDate = datetime.now()\n",
        "\n",
        "print(\"Days between: \", abs((startDate - endDate).days))"
      ]
    },
    {
      "cell_type": "markdown",
      "metadata": {
        "id": "Puz8Yl6aPMGF"
      },
      "source": [
        "## Question 6\n",
        "Write a program to calculate the volume of a sphere given its radius."
      ]
    },
    {
      "cell_type": "code",
      "execution_count": 15,
      "metadata": {
        "colab": {
          "base_uri": "https://localhost:8080/"
        },
        "id": "0jqrs8WxPMGG",
        "outputId": "3e46c3bd-94cf-482a-d208-2d6d9dd4af25"
      },
      "outputs": [
        {
          "output_type": "stream",
          "name": "stdout",
          "text": [
            "Enter the radius of circle: 12\n",
            "Volume of sphere of radius 12.0 = 7238.23\n"
          ]
        }
      ],
      "source": [
        "import math\n",
        "\n",
        "radius = float(input(\"Enter the radius of circle: \"))\n",
        "\n",
        "volume = 4/3 * math.pi * (radius ** 3)\n",
        "print(f\"Volume of sphere of radius {radius} =\", round(volume, 2))"
      ]
    },
    {
      "cell_type": "markdown",
      "metadata": {
        "id": "dY3Cyw7RPMGG"
      },
      "source": [
        "## Question 7\n",
        "Write a program to get the difference between a given number and 17, if the number is greater than 17, return double the absolute difference.3\n",
        "\n"
      ]
    },
    {
      "cell_type": "code",
      "execution_count": 20,
      "metadata": {
        "colab": {
          "base_uri": "https://localhost:8080/"
        },
        "id": "txtgvCs_PMGG",
        "outputId": "46684dda-a3e5-4fda-ec63-3a5c01833d70"
      },
      "outputs": [
        {
          "output_type": "stream",
          "name": "stdout",
          "text": [
            "Enter the number: 18\n",
            "2\n"
          ]
        }
      ],
      "source": [
        "num = int(input(\"Enter the number: \"))\n",
        "difference = num - 17\n",
        "\n",
        "if (num > 17):\n",
        "  print(abs(difference) * 2)\n",
        "else:\n",
        "  print(difference)"
      ]
    },
    {
      "cell_type": "markdown",
      "metadata": {
        "id": "G_7X9TU6PMGG"
      },
      "source": [
        "## Question 8\n",
        "\n",
        "Write a program that accepts a string and checks if it starts with \"Is\"."
      ]
    },
    {
      "cell_type": "code",
      "execution_count": 22,
      "metadata": {
        "colab": {
          "base_uri": "https://localhost:8080/"
        },
        "id": "amU4oERZPMGG",
        "outputId": "1188f43c-8e96-4298-8957-7ae352f73242"
      },
      "outputs": [
        {
          "output_type": "stream",
          "name": "stdout",
          "text": [
            "Enter the string: lsabc\n",
            "Entered string starts with ls\n"
          ]
        }
      ],
      "source": [
        "input_string = str(input(\"Enter the string: \"))\n",
        "\n",
        "if (input_string.startswith('ls')):\n",
        "  print(\"Entered string starts with ls\")\n",
        "else:\n",
        "  print(\"Entered string doesn't start with ls\")"
      ]
    },
    {
      "cell_type": "markdown",
      "metadata": {
        "id": "_SkpgUn3PMGG"
      },
      "source": [
        "## Question 9\n",
        "\n",
        "Write a program to get a string which is n (non-negative integer) copies of a given string."
      ]
    },
    {
      "cell_type": "code",
      "execution_count": 37,
      "metadata": {
        "colab": {
          "base_uri": "https://localhost:8080/"
        },
        "id": "hl3w80NoPMGG",
        "outputId": "3a5a67cb-4d29-4a75-8435-852812b1ea6c"
      },
      "outputs": [
        {
          "output_type": "stream",
          "name": "stdout",
          "text": [
            "Enter the string: hello\n",
            "Enter the value of n: 5\n",
            "hellohellohellohellohello\n"
          ]
        }
      ],
      "source": [
        "string: str = input(\"Enter the string: \")\n",
        "n: int = int(input(\"Enter the value of n: \"))\n",
        "\n",
        "if n < 0:\n",
        "  print(\"Value of n should be non-negative\")\n",
        "else:\n",
        "  print(string * n)"
      ]
    },
    {
      "cell_type": "markdown",
      "metadata": {
        "id": "KyYur5JhPMGG"
      },
      "source": [
        "## Question 10\n",
        "Write a program to find if a given number is odd or even.\n",
        "\n"
      ]
    },
    {
      "cell_type": "code",
      "execution_count": 25,
      "metadata": {
        "colab": {
          "base_uri": "https://localhost:8080/"
        },
        "id": "gjI0c3SSPMGH",
        "outputId": "3da2b705-7e04-4a2c-e0f8-f5b0e6bfa2f3"
      },
      "outputs": [
        {
          "output_type": "stream",
          "name": "stdout",
          "text": [
            "Enter a number: 28\n",
            "28 is an even number\n"
          ]
        }
      ],
      "source": [
        "num = int(input(\"Enter a number: \"))\n",
        "\n",
        "if (num % 2 == 0):\n",
        "  print(f\"{num} is an even number\")\n",
        "else:\n",
        "  print(f\"{num} is a odd number\")"
      ]
    },
    {
      "cell_type": "markdown",
      "metadata": {
        "id": "QnWVaJDqPMGH"
      },
      "source": [
        "## Question 11\n",
        "Write a program to check whether a character is a vowel or consonant.."
      ]
    },
    {
      "cell_type": "code",
      "execution_count": 28,
      "metadata": {
        "colab": {
          "base_uri": "https://localhost:8080/"
        },
        "id": "9G0AHDHRPMGH",
        "outputId": "da5a3149-3b03-49b7-875f-00a13f83e61e"
      },
      "outputs": [
        {
          "output_type": "stream",
          "name": "stdout",
          "text": [
            "Enter a character: e\n",
            "e is vowel\n"
          ]
        }
      ],
      "source": [
        "char = str(input(\"Enter a character: \"))\n",
        "\n",
        "if (char in ['a', 'e', 'i', 'o', 'u']):\n",
        "  print(f\"{char} is vowel\")\n",
        "else:\n",
        "  print(f\"{char} is consonant\")"
      ]
    },
    {
      "cell_type": "markdown",
      "metadata": {
        "id": "kdmKTofkPMGH"
      },
      "source": [
        "## Question 12\n",
        "Write a program to calculate the area of a triangle when the base and height are given"
      ]
    },
    {
      "cell_type": "code",
      "execution_count": 29,
      "metadata": {
        "colab": {
          "base_uri": "https://localhost:8080/"
        },
        "id": "ZcA51yCTPMGH",
        "outputId": "a6269369-1048-49e7-b3ed-5e0d7ca726bf"
      },
      "outputs": [
        {
          "output_type": "stream",
          "name": "stdout",
          "text": [
            "Area: 48.0\n"
          ]
        }
      ],
      "source": [
        "base: int = 12\n",
        "height: int = 8\n",
        "\n",
        "print(\"Area:\", 0.5 * base * height)"
      ]
    },
    {
      "cell_type": "markdown",
      "metadata": {
        "id": "2Nx-qJ6BPMGH"
      },
      "source": [
        "## Question 13\n",
        "Write a program to return True if a number in the given list is even."
      ]
    },
    {
      "cell_type": "code",
      "execution_count": 32,
      "metadata": {
        "colab": {
          "base_uri": "https://localhost:8080/"
        },
        "id": "E5qnRlFSPMGH",
        "outputId": "fa01a557-17bc-4885-d7fa-151d61531cf0"
      },
      "outputs": [
        {
          "output_type": "stream",
          "name": "stdout",
          "text": [
            "Atleast one number in list is even\n"
          ]
        }
      ],
      "source": [
        "num_list: list = [1, 3, 5, 7, 9, 12]\n",
        "\n",
        "if any(num % 2 == 0 for num in num_list):\n",
        "  print(\"Atleast one number in list is even\")\n",
        "else:\n",
        "  print(\"All numbers in list are odd\")"
      ]
    },
    {
      "cell_type": "markdown",
      "metadata": {
        "id": "O67rWP-KPMGH"
      },
      "source": [
        "## Question 14\n",
        "Write a program to create a new string where 'xy' has been added to the front of a given string. If the string already begins with 'xy', return the string unchanged.\n"
      ]
    },
    {
      "cell_type": "code",
      "execution_count": 34,
      "metadata": {
        "colab": {
          "base_uri": "https://localhost:8080/"
        },
        "id": "hQzVHynqPMGH",
        "outputId": "fa8beb43-3532-4413-83a6-fe8928bafbdb"
      },
      "outputs": [
        {
          "output_type": "stream",
          "name": "stdout",
          "text": [
            "Enter a string: xyabc\n",
            "Entered string: xyabc\n"
          ]
        }
      ],
      "source": [
        "input_string = str(input(\"Enter a string: \"))\n",
        "\n",
        "if (input_string.startswith('xy')):\n",
        "  print(\"Entered string:\", input_string)\n",
        "else:\n",
        "  print(f\"Modified string: xy{input_string}\")"
      ]
    },
    {
      "cell_type": "markdown",
      "metadata": {
        "id": "nnAbUg8IPMGH"
      },
      "source": [
        "## Question 15\n",
        "Write a program to calculate the principal amount when the interest, time, and amount are given.\n"
      ]
    },
    {
      "cell_type": "code",
      "execution_count": 37,
      "metadata": {
        "colab": {
          "base_uri": "https://localhost:8080/"
        },
        "id": "Af_0BAEXPMGI",
        "outputId": "3f1990c3-63bc-414a-9043-2371963b22f0"
      },
      "outputs": [
        {
          "output_type": "stream",
          "name": "stdout",
          "text": [
            "8000.0\n"
          ]
        }
      ],
      "source": [
        "interest: float = 12.5   # percent\n",
        "time: int = 2            # year\n",
        "amount: float = 10000    # final amount\n",
        "\n",
        "principal = (amount * 100) / (100 + (interest * time))\n",
        "print(principal)"
      ]
    },
    {
      "cell_type": "markdown",
      "metadata": {
        "id": "4YL20vhQPMGI"
      },
      "source": [
        "## Question 16\n",
        "Write a program to calculate the distance between two points (x1, y1) and (x2, y2)."
      ]
    },
    {
      "cell_type": "code",
      "execution_count": 38,
      "metadata": {
        "colab": {
          "base_uri": "https://localhost:8080/"
        },
        "id": "wpfmvAYCPMGI",
        "outputId": "00dd8cf9-7775-4a69-ec9e-45bf9017e197"
      },
      "outputs": [
        {
          "output_type": "stream",
          "name": "stdout",
          "text": [
            "5.0\n"
          ]
        }
      ],
      "source": [
        "import math\n",
        "\n",
        "x1 = 1\n",
        "y1 = 2\n",
        "x2 = 4\n",
        "y2 = 6\n",
        "\n",
        "distance = math.sqrt((x2 - x1)**2 + (y2 - y1)**2)\n",
        "\n",
        "print(distance)"
      ]
    },
    {
      "cell_type": "markdown",
      "metadata": {
        "id": "q0QEuUD1PMGI"
      },
      "source": [
        "## Question 17\n",
        "Write a program to convert height in feet and inches to centimeters."
      ]
    },
    {
      "cell_type": "code",
      "execution_count": 39,
      "metadata": {
        "colab": {
          "base_uri": "https://localhost:8080/"
        },
        "id": "jHD6D_crPMGI",
        "outputId": "570f5e29-54cb-4f7a-9d2a-e6415dc8ff24"
      },
      "outputs": [
        {
          "output_type": "stream",
          "name": "stdout",
          "text": [
            "Value is centimeter: 180.34\n"
          ]
        }
      ],
      "source": [
        "feet: int = 5\n",
        "inches: int = 11\n",
        "\n",
        "combined: float = feet + (inches / 12)\n",
        "in_cms: float = combined * 30.48\n",
        "\n",
        "print(\"Value is centimeter:\", in_cms)"
      ]
    },
    {
      "cell_type": "markdown",
      "metadata": {
        "id": "tAIHYgI6PMGI"
      },
      "source": [
        "## Question 18\n",
        "Write a program to find the length of the hypotenuse of a right-angled triangle."
      ]
    },
    {
      "cell_type": "code",
      "execution_count": 40,
      "metadata": {
        "colab": {
          "base_uri": "https://localhost:8080/"
        },
        "id": "NXVEtObRPMGI",
        "outputId": "ce934656-e33c-4bb7-fbbd-a6d8acbcc621"
      },
      "outputs": [
        {
          "output_type": "stream",
          "name": "stdout",
          "text": [
            "5.0\n"
          ]
        }
      ],
      "source": [
        "import math\n",
        "\n",
        "a: int = 3\n",
        "b: int = 4\n",
        "\n",
        "hypotenuse = math.sqrt(a**2 + b**2)\n",
        "\n",
        "print(hypotenuse)"
      ]
    },
    {
      "cell_type": "markdown",
      "metadata": {
        "id": "40pFYEORPMGI"
      },
      "source": [
        "## Question 19\n",
        "Write a program to convert distance in kilometers to miles."
      ]
    },
    {
      "cell_type": "code",
      "execution_count": 34,
      "metadata": {
        "colab": {
          "base_uri": "https://localhost:8080/"
        },
        "id": "4r27SsY4PMGI",
        "outputId": "e57de53f-67c4-4b19-80db-7061b2f3a3a3"
      },
      "outputs": [
        {
          "output_type": "stream",
          "name": "stdout",
          "text": [
            "Enter the distance in kilometer: 14\n",
            "Value in mile 8.7\n"
          ]
        }
      ],
      "source": [
        "distance: float = float(input(\"Enter the distance in kilometer: \"))\n",
        "\n",
        "mile = distance * 0.62137119\n",
        "\n",
        "print(\"Value in mile\", round(mile, 2))"
      ]
    },
    {
      "cell_type": "markdown",
      "metadata": {
        "id": "BIcnjj27PMGL"
      },
      "source": [
        "## Question 20\n",
        "Write a program to convert days, hours, minutes, and seconds into seconds."
      ]
    },
    {
      "cell_type": "code",
      "execution_count": 42,
      "metadata": {
        "colab": {
          "base_uri": "https://localhost:8080/"
        },
        "id": "_j0KNzn2PMGL",
        "outputId": "90f79c94-b87c-445b-b81e-8d96eba85d89"
      },
      "outputs": [
        {
          "output_type": "stream",
          "name": "stdout",
          "text": [
            "Total seconds: 1060365\n"
          ]
        }
      ],
      "source": [
        "days = 12\n",
        "hours = 6\n",
        "minutes = 32\n",
        "seconds = 45\n",
        "\n",
        "total_seconds = days * 24 * 3600 + hours * 3600 + minutes * 60 + seconds\n",
        "\n",
        "print(\"Total seconds:\", total_seconds)"
      ]
    },
    {
      "cell_type": "markdown",
      "metadata": {
        "id": "05aeOQd8PMGM"
      },
      "source": [
        "## Question 21\n",
        "Write a program to calculate Body Mass Index (BMI).\n"
      ]
    },
    {
      "cell_type": "code",
      "execution_count": 43,
      "metadata": {
        "colab": {
          "base_uri": "https://localhost:8080/"
        },
        "id": "wQhFFu2pPMGM",
        "outputId": "b4cd1f47-03e6-48ef-8173-7ea5bcf105c4"
      },
      "outputs": [
        {
          "output_type": "stream",
          "name": "stdout",
          "text": [
            "Normal weight\n"
          ]
        }
      ],
      "source": [
        "weight: float = 70     # in kilogram\n",
        "height: float = 1.75   # in meter\n",
        "\n",
        "bmi = weight / (height ** 2)\n",
        "if bmi < 18.5:\n",
        "    print(\"Underweight\")\n",
        "elif 18.5 <= bmi < 24.9:\n",
        "    print(\"Normal weight\")\n",
        "elif 25 <= bmi < 29.9:\n",
        "    print(\"Overweight\")\n",
        "else:\n",
        "    print(\"Obesity\")"
      ]
    },
    {
      "cell_type": "markdown",
      "metadata": {
        "id": "19ZcIJGYPMGM"
      },
      "source": [
        "## Question 22\n",
        "Write a program to convert temperature from Celsius to Fahrenheit and vice versa.\n",
        "\n"
      ]
    },
    {
      "cell_type": "code",
      "execution_count": 3,
      "metadata": {
        "colab": {
          "base_uri": "https://localhost:8080/"
        },
        "id": "8Vo0I6u4PMGM",
        "outputId": "338ff617-6827-4e4a-8694-d4adcb5c8c4a"
      },
      "outputs": [
        {
          "output_type": "stream",
          "name": "stdout",
          "text": [
            "Temperature Conversion\n",
            "1: Celsius to Fahrenheit\n",
            "2: Fahrenheit to Celsius\n",
            "Enter the conversion type (1 or 2): 2\n",
            "Enter temperature in Fahrenheit: 89\n",
            "89.0°F is equal to 31.67°C\n"
          ]
        }
      ],
      "source": [
        "def celsius_to_fahrenheit(celsius):\n",
        "    fahrenheit = (celsius * 9/5) + 32\n",
        "    return fahrenheit\n",
        "\n",
        "def fahrenheit_to_celsius(fahrenheit):\n",
        "    celsius = (fahrenheit - 32) * 5/9\n",
        "    return celsius\n",
        "\n",
        "print(\"Temperature Conversion\")\n",
        "print(\"1: Celsius to Fahrenheit\")\n",
        "print(\"2: Fahrenheit to Celsius\")\n",
        "user_choice = int(input(\"Enter the conversion type (1 or 2): \"))\n",
        "\n",
        "if user_choice == 1:\n",
        "    celsius = float(input(\"Enter temperature in Celsius: \"))\n",
        "    fahrenheit = celsius_to_fahrenheit(celsius)\n",
        "    print(f\"{celsius}°C is equal to {fahrenheit:.2f}°F\")\n",
        "elif user_choice == 2:\n",
        "    fahrenheit = float(input(\"Enter temperature in Fahrenheit: \"))\n",
        "    celsius = fahrenheit_to_celsius(fahrenheit)\n",
        "    print(f\"{fahrenheit}°F is equal to {celsius:.2f}°C\")\n",
        "else:\n",
        "    print(\"Invalid choice. Please choose 1 or 2.\")\n",
        "\n"
      ]
    },
    {
      "cell_type": "markdown",
      "metadata": {
        "id": "DAAW4EefPMGM"
      },
      "source": [
        "## Question 23\n",
        "Write a program to sum the first 'n' positive integers.\n"
      ]
    },
    {
      "cell_type": "code",
      "execution_count": 5,
      "metadata": {
        "colab": {
          "base_uri": "https://localhost:8080/"
        },
        "id": "MSGhNKH_PMGM",
        "outputId": "f6f0fa8d-5019-48db-9c67-8f3695a98c56"
      },
      "outputs": [
        {
          "output_type": "stream",
          "name": "stdout",
          "text": [
            "Total sum: 15\n"
          ]
        }
      ],
      "source": [
        "n: int = 5\n",
        "\n",
        "print(\"Total sum:\", n * (n + 1) // 2)"
      ]
    },
    {
      "cell_type": "markdown",
      "metadata": {
        "id": "qypntGq4PMGM"
      },
      "source": [
        "## Question 24\n",
        "Write a program to calculate the sum of all the digits in a given integer.\n"
      ]
    },
    {
      "cell_type": "code",
      "execution_count": 6,
      "metadata": {
        "colab": {
          "base_uri": "https://localhost:8080/"
        },
        "id": "_arh5ldYPMGM",
        "outputId": "3ef291e7-fa55-4b44-8895-52f64185b02c"
      },
      "outputs": [
        {
          "output_type": "stream",
          "name": "stdout",
          "text": [
            "Sum of digits: 15\n"
          ]
        }
      ],
      "source": [
        "n: int = 12345\n",
        "\n",
        "sum = 0\n",
        "while n > 0:\n",
        "    digit = n % 10\n",
        "    sum += digit\n",
        "    n //= 10\n",
        "\n",
        "print(\"Sum of digits:\", sum)"
      ]
    },
    {
      "cell_type": "markdown",
      "metadata": {
        "id": "sDBkevPyPMGM"
      },
      "source": [
        "## Question 25\n",
        "Write a program to convert a decimal number into binary, octal, and hexadecimal.\n"
      ]
    },
    {
      "cell_type": "code",
      "execution_count": 7,
      "metadata": {
        "colab": {
          "base_uri": "https://localhost:8080/"
        },
        "id": "ppdtAUsCPMGN",
        "outputId": "74c88f90-8549-4d62-96e7-b9d7cc84e40e"
      },
      "outputs": [
        {
          "output_type": "stream",
          "name": "stdout",
          "text": [
            "Binary: 0b1010\n",
            "Octal: 0o12\n",
            "Hexadecimal: 0xa\n"
          ]
        }
      ],
      "source": [
        "num: int = 10\n",
        "\n",
        "print(\"Binary:\", bin(num))\n",
        "print(\"Octal:\", oct(num))\n",
        "print(\"Hexadecimal:\", hex(num))"
      ]
    },
    {
      "cell_type": "markdown",
      "metadata": {
        "id": "17LgHwtaPMGN"
      },
      "source": [
        "## Question 26\n",
        "Write a program to convert a binary number to decimal.\n"
      ]
    },
    {
      "cell_type": "code",
      "execution_count": 12,
      "metadata": {
        "colab": {
          "base_uri": "https://localhost:8080/"
        },
        "id": "gfToxOrfPMGN",
        "outputId": "64e951fe-f99c-4bb2-f77f-15028dd907b7"
      },
      "outputs": [
        {
          "output_type": "stream",
          "name": "stdout",
          "text": [
            "Decimal: 5\n"
          ]
        }
      ],
      "source": [
        "def binary_to_decimal(binary):\n",
        "    decimal = 0\n",
        "    power = len(binary) - 1\n",
        "    for digit in binary:\n",
        "        decimal += int(digit) * (2 ** power)\n",
        "        power -= 1\n",
        "    return decimal\n",
        "\n",
        "binary_num = \"101\"\n",
        "\n",
        "print(\"Decimal:\", binary_to_decimal(binary_num))"
      ]
    },
    {
      "cell_type": "markdown",
      "metadata": {
        "id": "DdhS_KetPMGN"
      },
      "source": [
        "## Question 27\n",
        "Write a program to convert an octal number to decimal.\n"
      ]
    },
    {
      "cell_type": "code",
      "execution_count": 13,
      "metadata": {
        "colab": {
          "base_uri": "https://localhost:8080/"
        },
        "id": "t-Uk62TPPMGN",
        "outputId": "dabcfc14-08c4-49f1-b63d-919c89d87dc3"
      },
      "outputs": [
        {
          "output_type": "stream",
          "name": "stdout",
          "text": [
            "Decimal: 83\n"
          ]
        }
      ],
      "source": [
        "def octal_to_decimal(octal):\n",
        "    decimal = 0\n",
        "    power = len(octal) - 1\n",
        "    for digit in octal:\n",
        "        decimal += int(digit) * (8 ** power)\n",
        "        power -= 1\n",
        "    return decimal\n",
        "\n",
        "octal_num = \"123\"\n",
        "\n",
        "print(\"Decimal:\", octal_to_decimal(octal_num))"
      ]
    },
    {
      "cell_type": "markdown",
      "metadata": {
        "id": "uoAnXAEpPMGN"
      },
      "source": [
        "## Question 28\n",
        "Write a program to convert a hexadecimal number to decimal.\n"
      ]
    },
    {
      "cell_type": "code",
      "execution_count": 14,
      "metadata": {
        "colab": {
          "base_uri": "https://localhost:8080/"
        },
        "id": "1tTvLrndPMGN",
        "outputId": "7c57199b-cea4-4fc1-f188-82102eaf3aeb"
      },
      "outputs": [
        {
          "output_type": "stream",
          "name": "stdout",
          "text": [
            "Decimal: 2591\n"
          ]
        }
      ],
      "source": [
        "def hexadecimal_to_decimal(hexadecimal):\n",
        "    decimal = 0\n",
        "    power = len(hexadecimal) - 1\n",
        "    for digit in hexadecimal:\n",
        "        if digit.isdigit():\n",
        "            decimal += int(digit) * (16 ** power)\n",
        "        else:\n",
        "            # Convert hex letter to decimal equivalent\n",
        "            decimal += (ord(digit.upper()) - 55) * (16 ** power)\n",
        "        power -= 1\n",
        "    return decimal\n",
        "\n",
        "hexadecimal_num = \"A1F\"\n",
        "\n",
        "print(\"Decimal:\", hexadecimal_to_decimal(hexadecimal_num))\n"
      ]
    },
    {
      "cell_type": "markdown",
      "metadata": {
        "id": "77I-3zV8PMGN"
      },
      "source": [
        "## Question 29\n",
        "Write a program to count the number of occurrences of a specific character in a string.\n"
      ]
    },
    {
      "cell_type": "code",
      "execution_count": 16,
      "metadata": {
        "colab": {
          "base_uri": "https://localhost:8080/"
        },
        "id": "csGs5RexPMGO",
        "outputId": "ed1fa434-8af1-4d6b-bf7b-2f41b9f781a4"
      },
      "outputs": [
        {
          "output_type": "stream",
          "name": "stdout",
          "text": [
            "Number of occurrences of a: 3\n"
          ]
        }
      ],
      "source": [
        "string: str = \"bananans\"\n",
        "char = 'a'\n",
        "\n",
        "count = string.count(char)\n",
        "\n",
        "print(\"Number of occurrences of a:\", count)"
      ]
    },
    {
      "cell_type": "markdown",
      "metadata": {
        "id": "DdYvYu2BPMGO"
      },
      "source": [
        "## Question 30\n",
        "Write a program to find the greatest common divisor (GCD) or highest common factor (HCF) of two numbers.\n"
      ]
    },
    {
      "cell_type": "code",
      "execution_count": 17,
      "metadata": {
        "colab": {
          "base_uri": "https://localhost:8080/"
        },
        "id": "aNd1HSyCPMGO",
        "outputId": "733b0e76-6f6b-4873-a397-5a3a382c2da6"
      },
      "outputs": [
        {
          "output_type": "stream",
          "name": "stdout",
          "text": [
            "GCD: 4\n"
          ]
        }
      ],
      "source": [
        "a: int = 12\n",
        "b: int = 8\n",
        "\n",
        "gcd = 1\n",
        "for i in range(1, min(a, b) + 1):\n",
        "    if a % i == 0 and b % i == 0:\n",
        "        gcd = i\n",
        "\n",
        "print(\"GCD:\", gcd)"
      ]
    },
    {
      "cell_type": "markdown",
      "metadata": {
        "id": "9xkv6l7DPMGO"
      },
      "source": [
        "## Question 31\n",
        "Write a program to find the least common multiple (LCM) of two numbers.\n"
      ]
    },
    {
      "cell_type": "code",
      "execution_count": 18,
      "metadata": {
        "colab": {
          "base_uri": "https://localhost:8080/"
        },
        "id": "z3Wx2xlqPMGO",
        "outputId": "b09adcac-28e3-4baf-e24b-ad45ccc40773"
      },
      "outputs": [
        {
          "output_type": "stream",
          "name": "stdout",
          "text": [
            "LCM: 24\n"
          ]
        }
      ],
      "source": [
        "a: int = 12\n",
        "b: int = 8\n",
        "\n",
        "lcm = max(a, b)\n",
        "while True:\n",
        "    if lcm % a == 0 and lcm % b == 0:\n",
        "        break\n",
        "    lcm += 1\n",
        "\n",
        "print(\"LCM:\", lcm)"
      ]
    },
    {
      "cell_type": "markdown",
      "metadata": {
        "id": "b-B0Es2ePMGO"
      },
      "source": [
        "## Question 32\n",
        "Write a program to reverse a given name.\n"
      ]
    },
    {
      "cell_type": "code",
      "execution_count": 19,
      "metadata": {
        "colab": {
          "base_uri": "https://localhost:8080/"
        },
        "id": "7sQWoICUPMGO",
        "outputId": "7c7100dc-84f7-493e-a212-025162471c52"
      },
      "outputs": [
        {
          "output_type": "stream",
          "name": "stdout",
          "text": [
            "Reversed name: tikna\n"
          ]
        }
      ],
      "source": [
        "name: str = \"ankit\"\n",
        "\n",
        "print(\"Reversed name:\", name[::-1])"
      ]
    },
    {
      "cell_type": "markdown",
      "metadata": {
        "id": "fcNiK5f0PMGO"
      },
      "source": [
        "## Question 33\n",
        "Write a program to count the occurrences of a substring in a given string.\n"
      ]
    },
    {
      "cell_type": "code",
      "execution_count": 20,
      "metadata": {
        "colab": {
          "base_uri": "https://localhost:8080/"
        },
        "id": "w9p_BBqjPMGO",
        "outputId": "13e1261a-7eb0-433c-b0f0-debd77d69756"
      },
      "outputs": [
        {
          "output_type": "stream",
          "name": "stdout",
          "text": [
            "Number of occurrences of 'hello': 3\n"
          ]
        }
      ],
      "source": [
        "main_string = \"hello world hello hello world\"\n",
        "sub_string = \"hello\"\n",
        "\n",
        "count = main_string.count(sub_string)\n",
        "\n",
        "print(\"Number of occurrences of 'hello':\", count)"
      ]
    },
    {
      "cell_type": "markdown",
      "metadata": {
        "id": "oOYIzf6ZPMGP"
      },
      "source": [
        "## Question 34\n",
        "Write a program to distribute a given amount into notes.\n"
      ]
    },
    {
      "cell_type": "code",
      "execution_count": 24,
      "metadata": {
        "colab": {
          "base_uri": "https://localhost:8080/"
        },
        "id": "u38NnKgBPMGP",
        "outputId": "b26586c8-8c87-43b9-a36b-85cf06686ba1"
      },
      "outputs": [
        {
          "output_type": "stream",
          "name": "stdout",
          "text": [
            "2 notes of 500\n",
            "1 notes of 200\n",
            "1 notes of 100\n",
            "1 notes of 50\n",
            "1 notes of 10\n"
          ]
        }
      ],
      "source": [
        "amount = 1360\n",
        "\n",
        "notes = [500, 200, 100, 50, 20, 10, 2, 1]\n",
        "note_counts = {}\n",
        "\n",
        "for note in notes:\n",
        "    count = amount // note\n",
        "    note_counts[note] = count\n",
        "    amount %= note\n",
        "\n",
        "for note, count in note_counts.items():\n",
        "  if count > 0:\n",
        "    print(f\"{count} notes of {note}\")"
      ]
    },
    {
      "cell_type": "markdown",
      "metadata": {
        "id": "UuZOs9MzPMGP"
      },
      "source": [
        "## Question 35\n",
        "Write a program to check whether a given string is a palindrome or not.\n"
      ]
    },
    {
      "cell_type": "code",
      "execution_count": 25,
      "metadata": {
        "colab": {
          "base_uri": "https://localhost:8080/"
        },
        "id": "IodOBO4jPMGP",
        "outputId": "894f08f8-85dd-4217-be67-66a956957f2b"
      },
      "outputs": [
        {
          "output_type": "stream",
          "name": "stdout",
          "text": [
            "Palindrome\n"
          ]
        }
      ],
      "source": [
        "string: str = \"malayalam\"\n",
        "\n",
        "if string == string[::-1]:\n",
        "  print(\"Palindrome\")\n",
        "else:\n",
        "  print(\"Not palindrome\")"
      ]
    },
    {
      "cell_type": "markdown",
      "metadata": {
        "id": "K1RoNIo1PMGP"
      },
      "source": [
        "## Question 36\n",
        "Write a program to check whether a given number is a palindrome or not.\n"
      ]
    },
    {
      "cell_type": "code",
      "execution_count": 26,
      "metadata": {
        "colab": {
          "base_uri": "https://localhost:8080/"
        },
        "id": "L7u2BQORPMGP",
        "outputId": "50eab58e-c680-423f-8106-e259828e5829"
      },
      "outputs": [
        {
          "output_type": "stream",
          "name": "stdout",
          "text": [
            "Palindrome\n"
          ]
        }
      ],
      "source": [
        "num: int = 1234321\n",
        "\n",
        "if str(num) == str(num)[::-1]:\n",
        "  print(\"Palindrome\")\n",
        "else:\n",
        "  print(\"Not palindrome\")"
      ]
    },
    {
      "cell_type": "markdown",
      "metadata": {
        "id": "-LgIC--HPMGP"
      },
      "source": [
        "## Question 37\n",
        "Write a program to generate the Fibonacci series.\n"
      ]
    },
    {
      "cell_type": "code",
      "execution_count": 29,
      "metadata": {
        "colab": {
          "base_uri": "https://localhost:8080/"
        },
        "id": "4NQJXSIVPMGP",
        "outputId": "c59f05e3-b33b-4996-ff05-b5acd93fafe2"
      },
      "outputs": [
        {
          "output_type": "stream",
          "name": "stdout",
          "text": [
            "[0, 1, 1, 2, 3, 5, 8, 13, 21, 34]\n"
          ]
        }
      ],
      "source": [
        "def get_fibonacci_series(n):\n",
        "  fibonacci_series = []\n",
        "  if n <= 0:\n",
        "      return fibonacci_series\n",
        "  elif n == 1:\n",
        "      fibonacci_series.append(0)\n",
        "  elif n >= 2:\n",
        "      fibonacci_series.extend([0, 1])\n",
        "      for i in range(2, n):\n",
        "          next_term = fibonacci_series[-1] + fibonacci_series[-2]\n",
        "          fibonacci_series.append(next_term)\n",
        "  return fibonacci_series\n",
        "\n",
        "num_terms = 10\n",
        "\n",
        "fibonacci_series = get_fibonacci_series(num_terms)\n",
        "print(fibonacci_series)"
      ]
    },
    {
      "cell_type": "markdown",
      "metadata": {
        "id": "xwoNhw6MPMGP"
      },
      "source": [
        "## Question 38\n",
        "Write a program to print the multiplication table of a given number.\n"
      ]
    },
    {
      "cell_type": "code",
      "execution_count": 31,
      "metadata": {
        "colab": {
          "base_uri": "https://localhost:8080/"
        },
        "id": "jV-ZQz4BPMGQ",
        "outputId": "998c60c7-fc56-418c-b553-4238dfd9380f"
      },
      "outputs": [
        {
          "output_type": "stream",
          "name": "stdout",
          "text": [
            "14 * 1 = 14\n",
            "14 * 2 = 28\n",
            "14 * 3 = 42\n",
            "14 * 4 = 56\n",
            "14 * 5 = 70\n",
            "14 * 6 = 84\n",
            "14 * 7 = 98\n",
            "14 * 8 = 112\n",
            "14 * 9 = 126\n",
            "14 * 10 = 140\n"
          ]
        }
      ],
      "source": [
        "num: int = 14\n",
        "\n",
        "for i in range(1, 11):\n",
        "  print(f\"{num} * {i} = {num * i}\")"
      ]
    },
    {
      "cell_type": "markdown",
      "metadata": {
        "id": "5VUzOmsePMGQ"
      },
      "source": [
        "## Question 39\n",
        "Write a program to count the number of letters and digits in a given string.\n"
      ]
    },
    {
      "cell_type": "code",
      "execution_count": 32,
      "metadata": {
        "colab": {
          "base_uri": "https://localhost:8080/"
        },
        "id": "GNVzbBDyPMGQ",
        "outputId": "dd35d807-6ce1-41df-99af-1ef7c6401e75"
      },
      "outputs": [
        {
          "output_type": "stream",
          "name": "stdout",
          "text": [
            "Letters: 5\n",
            "Digits: 3\n"
          ]
        }
      ],
      "source": [
        "string: str = \"hello123\"\n",
        "\n",
        "letters = 0\n",
        "digits = 0\n",
        "\n",
        "for char in string:\n",
        "  if char.isalpha():\n",
        "    letters += 1\n",
        "  elif char.isdigit():\n",
        "    digits += 1\n",
        "\n",
        "print(\"Letters:\", letters)\n",
        "print(\"Digits:\", digits)"
      ]
    },
    {
      "cell_type": "markdown",
      "metadata": {
        "id": "FUoipaD1PMGQ"
      },
      "source": [
        "## Question 40\n",
        "Write a program to print the following pattern:\n"
      ]
    },
    {
      "cell_type": "code",
      "execution_count": 33,
      "metadata": {
        "colab": {
          "base_uri": "https://localhost:8080/"
        },
        "id": "5JgwbWPlPMGQ",
        "outputId": "6603e297-de10-4d49-d072-e956bc1f899a"
      },
      "outputs": [
        {
          "output_type": "stream",
          "name": "stdout",
          "text": [
            "*\n",
            "**\n",
            "***\n",
            "****\n",
            "*****\n"
          ]
        }
      ],
      "source": [
        "# The question doesn't specify any pattern\n",
        "# Here's a star pattern\n",
        "\n",
        "rows: int = 5\n",
        "\n",
        "for i in range(1, rows + 1):\n",
        "        print('*' * i)"
      ]
    }
  ],
  "metadata": {
    "anaconda-cloud": {},
    "kernelspec": {
      "display_name": "Python 3 (ipykernel)",
      "language": "python",
      "name": "python3"
    },
    "language_info": {
      "codemirror_mode": {
        "name": "ipython",
        "version": 3
      },
      "file_extension": ".py",
      "mimetype": "text/x-python",
      "name": "python",
      "nbconvert_exporter": "python",
      "pygments_lexer": "ipython3",
      "version": "3.11.7"
    },
    "colab": {
      "provenance": []
    }
  },
  "nbformat": 4,
  "nbformat_minor": 0
}