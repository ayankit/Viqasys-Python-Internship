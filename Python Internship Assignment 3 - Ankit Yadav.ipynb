{
  "cells": [
    {
      "cell_type": "markdown",
      "id": "5007131b-0512-417f-aed1-840600ca6f05",
      "metadata": {
        "id": "5007131b-0512-417f-aed1-840600ca6f05"
      },
      "source": [
        "___\n",
        "\n",
        "<a href='https://viqasys.com/wp-content/uploads/2021/07/ns1.png'><img src='https://viqasys.com/wp-content/uploads/2021/07/ns1.png'/></a>\n",
        "___\n",
        "<center><em>Content Copyright VIQASYS INNOVATIONS PVT LTD.</em></center>\n",
        "\n",
        "# Assignment 3"
      ]
    },
    {
      "cell_type": "markdown",
      "id": "ac51df3b-2409-40a4-9072-da5bb6601ed8",
      "metadata": {
        "id": "ac51df3b-2409-40a4-9072-da5bb6601ed8"
      },
      "source": [
        "## Question 1\n",
        "Write a Python program to create a list with the following elements: 4, 8, 9, 'apple', 'banana', 'cherry'. Print the list."
      ]
    },
    {
      "cell_type": "markdown",
      "source": [],
      "metadata": {
        "id": "EmZI1oSVSOw9"
      },
      "id": "EmZI1oSVSOw9"
    },
    {
      "cell_type": "code",
      "source": [
        "my_list=[4, 10, 9, 'apple', 'banana', 'mango']\n",
        "print(my_list)"
      ],
      "metadata": {
        "colab": {
          "base_uri": "https://localhost:8080/"
        },
        "id": "de0hMbLgRVZ-",
        "outputId": "25e5d24d-411a-4269-89b7-c53c1f405cce"
      },
      "id": "de0hMbLgRVZ-",
      "execution_count": 1,
      "outputs": [
        {
          "output_type": "stream",
          "name": "stdout",
          "text": [
            "[4, 10, 9, 'apple', 'banana', 'mango']\n"
          ]
        }
      ]
    },
    {
      "cell_type": "markdown",
      "id": "f185ce21-1f5f-4e3f-8131-c5c4390cd870",
      "metadata": {
        "id": "f185ce21-1f5f-4e3f-8131-c5c4390cd870"
      },
      "source": [
        "## Question 2\n",
        "Given the list [10, 20, 30, 40, 50], write a Python script to print the second and fourth elements."
      ]
    },
    {
      "cell_type": "code",
      "execution_count": 3,
      "id": "6bce8ae9-bf42-48d6-a32b-8b3091f40d68",
      "metadata": {
        "colab": {
          "base_uri": "https://localhost:8080/"
        },
        "id": "6bce8ae9-bf42-48d6-a32b-8b3091f40d68",
        "outputId": "d02fba01-1f7b-42ed-bd2e-1de69d30493e"
      },
      "outputs": [
        {
          "output_type": "stream",
          "name": "stdout",
          "text": [
            "Second element: 20\n",
            "Fourth element: 40\n"
          ]
        }
      ],
      "source": [
        "my_list = [10, 20, 30, 40, 50]\n",
        "\n",
        "print(\"Second element:\", my_list[1])\n",
        "print(\"Fourth element:\", my_list[3])"
      ]
    },
    {
      "cell_type": "markdown",
      "id": "44467356-de20-4dca-ba7d-868cfa67fa51",
      "metadata": {
        "id": "44467356-de20-4dca-ba7d-868cfa67fa51"
      },
      "source": [
        "## Question 3\n",
        "Create a list of the first 10 even numbers. Write a Python program to print the first half of the list using slicing."
      ]
    },
    {
      "cell_type": "code",
      "execution_count": 5,
      "id": "8676b25d-15a0-4ef1-972e-3ad380d84633",
      "metadata": {
        "colab": {
          "base_uri": "https://localhost:8080/"
        },
        "id": "8676b25d-15a0-4ef1-972e-3ad380d84633",
        "outputId": "7a8f8bbd-6c78-4780-c80e-c3363be61ee9"
      },
      "outputs": [
        {
          "output_type": "stream",
          "name": "stdout",
          "text": [
            "First half of the list: [2, 4, 6, 8, 10]\n"
          ]
        }
      ],
      "source": [
        "even_numbers = [2, 4, 6, 8, 10, 12, 14, 16, 18, 20]\n",
        "midpoint = len(even_numbers) // 2\n",
        "first_half = even_numbers[:midpoint]\n",
        "print(\"First half of the list:\", first_half)"
      ]
    },
    {
      "cell_type": "markdown",
      "id": "98a8e914-d78b-4890-8440-0e869a248917",
      "metadata": {
        "id": "98a8e914-d78b-4890-8440-0e869a248917"
      },
      "source": [
        "## Question 4\n",
        "Here is a list: [\"red\", \"green\", \"blue\"]. Change the element \"blue\" to \"yellow\" and print the updated list."
      ]
    },
    {
      "cell_type": "code",
      "execution_count": 6,
      "id": "e3166115-e768-4940-8d38-7aef92261a7a",
      "metadata": {
        "colab": {
          "base_uri": "https://localhost:8080/"
        },
        "id": "e3166115-e768-4940-8d38-7aef92261a7a",
        "outputId": "55f1cca1-6c96-440c-a5de-832bf52c4030"
      },
      "outputs": [
        {
          "output_type": "stream",
          "name": "stdout",
          "text": [
            "['red', 'green', 'yellow']\n"
          ]
        }
      ],
      "source": [
        "colors = [\"red\", \"green\", \"blue\"]\n",
        "colors[2] = \"yellow\"\n",
        "\n",
        "print(colors)"
      ]
    },
    {
      "cell_type": "markdown",
      "id": "d0f8e0f7-20d9-4537-b8d5-a4f187915fb0",
      "metadata": {
        "id": "d0f8e0f7-20d9-4537-b8d5-a4f187915fb0"
      },
      "source": [
        "## Question 5\n",
        "Start with an empty list. Write a Python program to append 'apple', 'banana', and 'cherry' to the list using separate append calls, then print the list."
      ]
    },
    {
      "cell_type": "code",
      "execution_count": 7,
      "id": "412e0bc7-ecd4-45f1-b8e9-cfef7bde7f5a",
      "metadata": {
        "colab": {
          "base_uri": "https://localhost:8080/"
        },
        "id": "412e0bc7-ecd4-45f1-b8e9-cfef7bde7f5a",
        "outputId": "5aa1f912-5df9-4640-e0d0-838b737c6b87"
      },
      "outputs": [
        {
          "output_type": "stream",
          "name": "stdout",
          "text": [
            "['apple', 'banana', 'cherry']\n"
          ]
        }
      ],
      "source": [
        "fruits = []\n",
        "fruits.append('apple')\n",
        "fruits.append('banana')\n",
        "fruits.append('cherry')\n",
        "\n",
        "print(fruits)"
      ]
    },
    {
      "cell_type": "markdown",
      "id": "12e6a191-cf00-4906-ba66-110a1985959c",
      "metadata": {
        "id": "12e6a191-cf00-4906-ba66-110a1985959c"
      },
      "source": [
        "## Question 6\n",
        "Given two lists, [1, 2, 3] and [4, 5, 6], write a Python script that extends the first list with the second list and prints the updated list."
      ]
    },
    {
      "cell_type": "code",
      "execution_count": 8,
      "id": "66a96440-5dd3-4079-932e-994cd4d71ff7",
      "metadata": {
        "colab": {
          "base_uri": "https://localhost:8080/"
        },
        "id": "66a96440-5dd3-4079-932e-994cd4d71ff7",
        "outputId": "048aa57a-2ba6-4cac-f83f-7af2d7eab25c"
      },
      "outputs": [
        {
          "output_type": "stream",
          "name": "stdout",
          "text": [
            "[1, 2, 3, 4, 5, 6]\n"
          ]
        }
      ],
      "source": [
        "list1 = [1, 2, 3]\n",
        "list2 = [4, 5, 6]\n",
        "\n",
        "list1.extend(list2)\n",
        "\n",
        "print(list1)"
      ]
    },
    {
      "cell_type": "markdown",
      "id": "f87f4b36-fc85-41f4-9493-936f1b224caf",
      "metadata": {
        "id": "f87f4b36-fc85-41f4-9493-936f1b224caf"
      },
      "source": [
        "## Question 7\n",
        "Here is a list: [1, 2, 4]. Insert the number 3 at the appropriate position to maintain sorted order and print the list."
      ]
    },
    {
      "cell_type": "code",
      "execution_count": 9,
      "id": "34b70378-e9f2-4bba-80d9-8eacf4da42ef",
      "metadata": {
        "colab": {
          "base_uri": "https://localhost:8080/"
        },
        "id": "34b70378-e9f2-4bba-80d9-8eacf4da42ef",
        "outputId": "8fb64c4f-696c-4738-cad6-589eaab3dbc6"
      },
      "outputs": [
        {
          "output_type": "stream",
          "name": "stdout",
          "text": [
            "[1, 2, 3, 4]\n"
          ]
        }
      ],
      "source": [
        "my_list = [1, 2, 4]\n",
        "my_list.insert(2, 3)\n",
        "\n",
        "print(my_list)"
      ]
    },
    {
      "cell_type": "markdown",
      "id": "5c64bb21-2114-4448-a2de-516e5c9f30aa",
      "metadata": {
        "id": "5c64bb21-2114-4448-a2de-516e5c9f30aa"
      },
      "source": [
        "## Question 8\n",
        "From the list [1, 2, 3, 4, 5, 3], write a Python program to remove the first occurrence of the number 3."
      ]
    },
    {
      "cell_type": "code",
      "execution_count": 10,
      "id": "927ae20e-959e-4bcf-bf27-0c3a2e8573e7",
      "metadata": {
        "colab": {
          "base_uri": "https://localhost:8080/"
        },
        "id": "927ae20e-959e-4bcf-bf27-0c3a2e8573e7",
        "outputId": "9f696c45-dfbd-447b-a584-9d05eb138c95"
      },
      "outputs": [
        {
          "output_type": "stream",
          "name": "stdout",
          "text": [
            "[1, 2, 4, 5, 3]\n"
          ]
        }
      ],
      "source": [
        "my_list = [1, 2, 3, 4, 5, 3]\n",
        "my_list.remove(3)\n",
        "\n",
        "print(my_list)"
      ]
    },
    {
      "cell_type": "markdown",
      "id": "7f2564e4-324a-4def-b103-207400abbb68",
      "metadata": {
        "id": "7f2564e4-324a-4def-b103-207400abbb68"
      },
      "source": [
        "## Question 9\n",
        "Using the list [10, 20, 30, 40, 50], write a Python script to remove and print the last element."
      ]
    },
    {
      "cell_type": "code",
      "execution_count": 11,
      "id": "633f3a15-befd-4bdd-91b8-e17fddcd4a46",
      "metadata": {
        "colab": {
          "base_uri": "https://localhost:8080/"
        },
        "id": "633f3a15-befd-4bdd-91b8-e17fddcd4a46",
        "outputId": "7abf12e1-f454-4524-8b16-bde78277d59f"
      },
      "outputs": [
        {
          "output_type": "stream",
          "name": "stdout",
          "text": [
            "Removed element: 50\n",
            "Updated list: [10, 20, 30, 40]\n"
          ]
        }
      ],
      "source": [
        "my_list = [10, 20, 30, 40, 50]\n",
        "\n",
        "last_element = my_list.pop()\n",
        "print(\"Removed element:\", last_element)\n",
        "\n",
        "print(\"Updated list:\", my_list)"
      ]
    },
    {
      "cell_type": "markdown",
      "id": "a28a2c78-4d2d-423f-a713-93e3c488dd32",
      "metadata": {
        "id": "a28a2c78-4d2d-423f-a713-93e3c488dd32"
      },
      "source": [
        "## Question 10\n",
        "Take the list [1, 2, 3, 4, 5] and write a Python script that empties the list and prints it."
      ]
    },
    {
      "cell_type": "code",
      "execution_count": 13,
      "id": "b5d6d53d-d00b-40b6-aacd-a284ef3f1f97",
      "metadata": {
        "colab": {
          "base_uri": "https://localhost:8080/"
        },
        "id": "b5d6d53d-d00b-40b6-aacd-a284ef3f1f97",
        "outputId": "b75ceaf7-9d3b-4d0a-9b11-ccf643a5d492"
      },
      "outputs": [
        {
          "output_type": "stream",
          "name": "stdout",
          "text": [
            "[]\n"
          ]
        }
      ],
      "source": [
        "numbers = [1, 2, 3, 4, 5]\n",
        "\n",
        "numbers.clear()\n",
        "\n",
        "print(numbers)"
      ]
    },
    {
      "cell_type": "markdown",
      "id": "17ab293b-73b8-48be-a1ba-5a61b891977b",
      "metadata": {
        "id": "17ab293b-73b8-48be-a1ba-5a61b891977b"
      },
      "source": [
        "## Question 11\n",
        "Write a Python program to find the number of elements in the list [1, 2, 3, 4, 5, 6, 7, 8, 9]."
      ]
    },
    {
      "cell_type": "code",
      "execution_count": 14,
      "id": "876d026c-7aae-4f82-89cb-a1e6f776cc88",
      "metadata": {
        "colab": {
          "base_uri": "https://localhost:8080/"
        },
        "id": "876d026c-7aae-4f82-89cb-a1e6f776cc88",
        "outputId": "48bc0554-b34d-4962-ada0-ed3c36b6314b"
      },
      "outputs": [
        {
          "output_type": "stream",
          "name": "stdout",
          "text": [
            "9\n"
          ]
        }
      ],
      "source": [
        "numbers = [1, 2, 3, 4, 5, 6, 7, 8, 9]\n",
        "\n",
        "print(len(numbers))"
      ]
    },
    {
      "cell_type": "markdown",
      "id": "5cdc585a-ad90-4ff7-a205-2f6c697e0212",
      "metadata": {
        "id": "5cdc585a-ad90-4ff7-a205-2f6c697e0212"
      },
      "source": [
        "## Question 12\n",
        "Given the list ['apple', 'banana', 'apple', 'cherry'], count and print how many times 'apple' appears in the list."
      ]
    },
    {
      "cell_type": "code",
      "execution_count": 17,
      "id": "db15a2a8-60aa-4bd8-b535-3890693f043c",
      "metadata": {
        "colab": {
          "base_uri": "https://localhost:8080/"
        },
        "id": "db15a2a8-60aa-4bd8-b535-3890693f043c",
        "outputId": "c82e6604-9849-4d93-9d6e-872cf9f9e2ae"
      },
      "outputs": [
        {
          "output_type": "stream",
          "name": "stdout",
          "text": [
            "'apple' appeared 2 times\n"
          ]
        }
      ],
      "source": [
        "fruits = ['apple', 'banana', 'apple', 'cherry']\n",
        "apple_count = fruits.count('apple')\n",
        "\n",
        "print(f\"'apple' appeared {apple_count} times\")"
      ]
    },
    {
      "cell_type": "markdown",
      "id": "74ed49f8-5dcb-4dd2-901b-089baf87bc7f",
      "metadata": {
        "id": "74ed49f8-5dcb-4dd2-901b-089baf87bc7f"
      },
      "source": [
        "## Question 13\n",
        "Create a list of the words ['banana', 'apple', 'cherry']. Write a Python program to sort the list alphabetically and print it."
      ]
    },
    {
      "cell_type": "code",
      "execution_count": 18,
      "id": "b973bb53-8636-4f08-b03d-7dcdf3462580",
      "metadata": {
        "colab": {
          "base_uri": "https://localhost:8080/"
        },
        "id": "b973bb53-8636-4f08-b03d-7dcdf3462580",
        "outputId": "21e12138-c69c-4438-fa93-a985c99c55ba"
      },
      "outputs": [
        {
          "output_type": "stream",
          "name": "stdout",
          "text": [
            "['apple', 'banana', 'cherry']\n"
          ]
        }
      ],
      "source": [
        "words = ['banana', 'apple', 'cherry']\n",
        "words.sort()\n",
        "\n",
        "print(words)"
      ]
    },
    {
      "cell_type": "markdown",
      "id": "1055bf83-09c9-4ca0-b977-82a4550f77ce",
      "metadata": {
        "id": "1055bf83-09c9-4ca0-b977-82a4550f77ce"
      },
      "source": [
        "## Question 14\n",
        "Given the list [1, 2, 3, 4, 5], write a script that reverses the list and prints it."
      ]
    },
    {
      "cell_type": "code",
      "execution_count": 19,
      "id": "ff8a45dc-3d25-427f-9a94-5d27ab48acea",
      "metadata": {
        "colab": {
          "base_uri": "https://localhost:8080/"
        },
        "id": "ff8a45dc-3d25-427f-9a94-5d27ab48acea",
        "outputId": "8d611276-51da-484f-fe62-d0e4a72785d2"
      },
      "outputs": [
        {
          "output_type": "stream",
          "name": "stdout",
          "text": [
            "[5, 4, 3, 2, 1]\n"
          ]
        }
      ],
      "source": [
        "my_list = [1, 2, 3, 4, 5]\n",
        "my_list.reverse()\n",
        "\n",
        "print(my_list)"
      ]
    },
    {
      "cell_type": "markdown",
      "id": "2f898254-a16a-4b58-b612-365001301073",
      "metadata": {
        "id": "2f898254-a16a-4b58-b612-365001301073"
      },
      "source": [
        "## Question 15\n",
        "Check if the value 'cat' exists in the list ['dog', 'rabbit', 'horse'] and print the result as a boolean value."
      ]
    },
    {
      "cell_type": "code",
      "execution_count": 20,
      "id": "1d373be8-bb1f-418f-833c-ab47eb105798",
      "metadata": {
        "colab": {
          "base_uri": "https://localhost:8080/"
        },
        "id": "1d373be8-bb1f-418f-833c-ab47eb105798",
        "outputId": "6602d95f-b302-4dc3-a000-7420c40e3dd7"
      },
      "outputs": [
        {
          "output_type": "stream",
          "name": "stdout",
          "text": [
            "False\n"
          ]
        }
      ],
      "source": [
        "animals = ['dog', 'rabbit', 'horse']\n",
        "cat_exists = 'cat' in animals\n",
        "\n",
        "print(cat_exists)"
      ]
    },
    {
      "cell_type": "markdown",
      "id": "35ff41d7-1834-4fef-859b-7b13f83c99d0",
      "metadata": {
        "id": "35ff41d7-1834-4fef-859b-7b13f83c99d0"
      },
      "source": [
        "## Question 16\n",
        "Copy the contents of list a = [1, 2, 3] into a new list b and print both lists."
      ]
    },
    {
      "cell_type": "code",
      "execution_count": 21,
      "id": "17007da4-ec13-4f37-8436-f2e570f75325",
      "metadata": {
        "colab": {
          "base_uri": "https://localhost:8080/"
        },
        "id": "17007da4-ec13-4f37-8436-f2e570f75325",
        "outputId": "c9484031-deb1-4b90-86f1-dc92a5db5758"
      },
      "outputs": [
        {
          "output_type": "stream",
          "name": "stdout",
          "text": [
            "List a: [1, 2, 3]\n",
            "List b: [1, 2, 3]\n"
          ]
        }
      ],
      "source": [
        "a = [1, 2, 3]\n",
        "b = a.copy()\n",
        "\n",
        "print(\"List a:\", a)\n",
        "print(\"List b:\", b)"
      ]
    },
    {
      "cell_type": "markdown",
      "id": "89323cad-c11c-4f28-bc60-a90288f16153",
      "metadata": {
        "id": "89323cad-c11c-4f28-bc60-a90288f16153"
      },
      "source": [
        "## Question 17\n",
        "Using list comprehension, create a list of squares for numbers from 1 to 10 and print the list."
      ]
    },
    {
      "cell_type": "code",
      "execution_count": 22,
      "id": "c5833a04-7ff2-45eb-945f-5692c8c586a2",
      "metadata": {
        "colab": {
          "base_uri": "https://localhost:8080/"
        },
        "id": "c5833a04-7ff2-45eb-945f-5692c8c586a2",
        "outputId": "9cacc077-f52b-4b6c-ad0d-83f955a1d4bb"
      },
      "outputs": [
        {
          "output_type": "stream",
          "name": "stdout",
          "text": [
            "[1, 4, 9, 16, 25, 36, 49, 64, 81, 100]\n"
          ]
        }
      ],
      "source": [
        "squares = [x**2 for x in range(1, 11)]\n",
        "\n",
        "print(squares)"
      ]
    },
    {
      "cell_type": "markdown",
      "id": "0a9dbda1-e89d-4e60-bfa4-aa75af4a0e1f",
      "metadata": {
        "id": "0a9dbda1-e89d-4e60-bfa4-aa75af4a0e1f"
      },
      "source": [
        "## Question 18\n",
        "Here is a nested list: [[1, 2], [3, 4], [5, 6]]. Access and print the second element of the first nested list."
      ]
    },
    {
      "cell_type": "code",
      "execution_count": 23,
      "id": "de58f0e6-34d9-4864-888d-73803b83a86a",
      "metadata": {
        "colab": {
          "base_uri": "https://localhost:8080/"
        },
        "id": "de58f0e6-34d9-4864-888d-73803b83a86a",
        "outputId": "aff08574-7d75-41f6-8f59-716de4237088"
      },
      "outputs": [
        {
          "output_type": "stream",
          "name": "stdout",
          "text": [
            "2\n"
          ]
        }
      ],
      "source": [
        "nested_list = [[1, 2], [3, 4], [5, 6]]\n",
        "\n",
        "second_element = nested_list[0][1]\n",
        "print(second_element)"
      ]
    },
    {
      "cell_type": "markdown",
      "id": "7fd88b7f-e099-4405-9642-8947aa036bba",
      "metadata": {
        "id": "7fd88b7f-e099-4405-9642-8947aa036bba"
      },
      "source": [
        "## Question 19\n",
        "Concatenate the lists [1, 2, 3] and [4, 5, 6] into a single list and print the result."
      ]
    },
    {
      "cell_type": "code",
      "execution_count": 24,
      "id": "fc1d6efb-8930-405c-b465-40f58b86ec74",
      "metadata": {
        "colab": {
          "base_uri": "https://localhost:8080/"
        },
        "id": "fc1d6efb-8930-405c-b465-40f58b86ec74",
        "outputId": "9cb45aa3-3ec6-4825-d5c4-3ca0d529d505"
      },
      "outputs": [
        {
          "output_type": "stream",
          "name": "stdout",
          "text": [
            "[1, 2, 3, 4, 5, 6]\n"
          ]
        }
      ],
      "source": [
        "list1 = [1, 2, 3]\n",
        "list2 = [4, 5, 6]\n",
        "\n",
        "combined_list = list1 + list2\n",
        "\n",
        "print(combined_list)"
      ]
    },
    {
      "cell_type": "markdown",
      "id": "d33e6ce9-9610-4065-b5c3-7a0f2e495ace",
      "metadata": {
        "id": "d33e6ce9-9610-4065-b5c3-7a0f2e495ace"
      },
      "source": [
        "## Question 20\n",
        "Using a list as a stack, push the elements 10, 20, 30, one by one, and then pop each one in LIFO order, printing each popped element."
      ]
    },
    {
      "cell_type": "code",
      "execution_count": 25,
      "id": "8c2c8bd4-aa66-47b0-971b-7473378cff2f",
      "metadata": {
        "colab": {
          "base_uri": "https://localhost:8080/"
        },
        "id": "8c2c8bd4-aa66-47b0-971b-7473378cff2f",
        "outputId": "355054ca-ffb3-4ea0-cd84-a9aedea0bcc0"
      },
      "outputs": [
        {
          "output_type": "stream",
          "name": "stdout",
          "text": [
            "30\n",
            "20\n",
            "10\n"
          ]
        }
      ],
      "source": [
        "stack = []\n",
        "\n",
        "stack.append(10)\n",
        "stack.append(20)\n",
        "stack.append(30)\n",
        "\n",
        "while stack:\n",
        "  element = stack.pop()\n",
        "  print(element)"
      ]
    }
  ],
  "metadata": {
    "kernelspec": {
      "display_name": "Python 3 (ipykernel)",
      "language": "python",
      "name": "python3"
    },
    "language_info": {
      "codemirror_mode": {
        "name": "ipython",
        "version": 3
      },
      "file_extension": ".py",
      "mimetype": "text/x-python",
      "name": "python",
      "nbconvert_exporter": "python",
      "pygments_lexer": "ipython3",
      "version": "3.11.7"
    },
    "colab": {
      "provenance": []
    }
  },
  "nbformat": 4,
  "nbformat_minor": 5
}